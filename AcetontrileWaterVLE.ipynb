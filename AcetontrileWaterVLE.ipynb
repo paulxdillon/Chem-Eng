{
  "nbformat": 4,
  "nbformat_minor": 0,
  "metadata": {
    "colab": {
      "name": "AcetontrileWaterVLE.ipynb",
      "provenance": [],
      "collapsed_sections": [],
      "authorship_tag": "ABX9TyOCU+SpEwTxQSwuKIaI2zTX",
      "include_colab_link": true
    },
    "kernelspec": {
      "name": "python3",
      "display_name": "Python 3"
    },
    "language_info": {
      "name": "python"
    }
  },
  "cells": [
    {
      "cell_type": "markdown",
      "metadata": {
        "id": "view-in-github",
        "colab_type": "text"
      },
      "source": [
        "<a href=\"https://colab.research.google.com/github/paulxdillon/Chem-Eng/blob/master/AcetontrileWaterVLE.ipynb\" target=\"_parent\"><img src=\"https://colab.research.google.com/assets/colab-badge.svg\" alt=\"Open In Colab\"/></a>"
      ]
    },
    {
      "cell_type": "code",
      "metadata": {
        "id": "7MEGfH_R1rVj"
      },
      "source": [
        ""
      ],
      "execution_count": null,
      "outputs": []
    },
    {
      "cell_type": "markdown",
      "metadata": {
        "id": "IvKIcEpx1waP"
      },
      "source": [
        "VLE for Acetonitrile Water mixure"
      ]
    },
    {
      "cell_type": "code",
      "metadata": {
        "colab": {
          "base_uri": "https://localhost:8080/"
        },
        "id": "rSHrmBNe1z7v",
        "outputId": "e8d2ab04-4307-49ee-b503-8c2549e4d464"
      },
      "source": [
        "import matplotlib.pyplot as plt2\n",
        "from matplotlib.lines import Line2D\n",
        "from scipy.optimize import fsolve\n",
        "# from scipy.optimize import root\n",
        "from scipy.integrate import odeint\n",
        "# from scipy.interpolate import interp1d\n",
        "# import scipy as sp\n",
        "from scipy.integrate import ode\n",
        "from scipy.interpolate import make_interp_spline, BSpline\n",
        "import numpy as np\n",
        "\n",
        "print(np)"
      ],
      "execution_count": 3,
      "outputs": [
        {
          "output_type": "stream",
          "text": [
            "<module 'numpy' from '/usr/local/lib/python3.7/dist-packages/numpy/__init__.py'>\n"
          ],
          "name": "stdout"
        }
      ]
    }
  ]
}