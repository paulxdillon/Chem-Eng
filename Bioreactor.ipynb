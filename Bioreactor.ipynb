{
  "nbformat": 4,
  "nbformat_minor": 0,
  "metadata": {
    "colab": {
      "name": "Bioreactor.ipynb",
      "version": "0.3.2",
      "provenance": [],
      "include_colab_link": true
    },
    "kernelspec": {
      "name": "python3",
      "display_name": "Python 3"
    }
  },
  "cells": [
    {
      "cell_type": "markdown",
      "metadata": {
        "id": "view-in-github",
        "colab_type": "text"
      },
      "source": [
        "<a href=\"https://colab.research.google.com/github/paulxdillon/Chem-Eng/blob/master/Bioreactor.ipynb\" target=\"_parent\"><img src=\"https://colab.research.google.com/assets/colab-badge.svg\" alt=\"Open In Colab\"/></a>"
      ]
    },
    {
      "cell_type": "markdown",
      "metadata": {
        "id": "LfXrRpXKDFn1",
        "colab_type": "text"
      },
      "source": [
        ""
      ]
    },
    {
      "cell_type": "markdown",
      "metadata": {
        "id": "8yuS2ys9DI8y",
        "colab_type": "text"
      },
      "source": [
        "Model for penicilin using Bajpai & Reuss, J. Chem Tech. Biotechno, 1980"
      ]
    },
    {
      "cell_type": "code",
      "metadata": {
        "id": "H2EWkn9nDB9G",
        "colab_type": "code",
        "colab": {}
      },
      "source": [
        "%matplotlib inline\n",
        "import numpy as np\n",
        "import matplotlib.pyplot as plt\n",
        "from scipy.integrate import odeint\n",
        "\n",
        "mumax = 0.20      # 1/hour\n",
        "Ks = 1.00         # g/liter\n",
        "Yxs = 0.5         # g/g\n",
        "Ypx = 0.2         # g/g\n",
        "Sf = 10.0         # g/liter\n",
        "\n",
        "# inlet flowrate\n",
        "\n",
        "def F(t):\n",
        "    return 0.05\n",
        "\n",
        "# reaction rates\n",
        "\n",
        "def mu(S):\n",
        "    return mumax*S/(Ks + S)\n",
        "\n",
        "def Rg(X,S):\n",
        "    return mu(S)*X\n",
        "    \n",
        "def Rp(X,S):\n",
        "    return Ypx*Rg(X,S)\n",
        "\n",
        "# differential equations\n",
        "\n",
        "def xdot(x,t):\n",
        "    X,P,S,V = x\n",
        "    dX = -F(t)*X/V + Rg(X,S)\n",
        "    dP = -F(t)*P/V + Rp(X,S)\n",
        "    dS = F(t)*(Sf-S)/V - Rg(X,S)/Yxs\n",
        "    dV = F(t)\n",
        "    return [dX,dP,dS,dV]"
      ],
      "execution_count": 0,
      "outputs": []
    },
    {
      "cell_type": "code",
      "metadata": {
        "id": "shryxQZSDTxA",
        "colab_type": "code",
        "colab": {
          "base_uri": "https://localhost:8080/",
          "height": 300
        },
        "outputId": "68d92753-7746-4126-dce1-0629c559dc1e"
      },
      "source": [
        "IC = [0.05, 0.0, 10.0, 1.0]\n",
        "\n",
        "t = np.linspace(0,50)\n",
        "sol = odeint(xdot,IC,t)\n",
        "X,P,S,V = sol.transpose()\n",
        "\n",
        "plt.plot(t,X)\n",
        "plt.plot(t,P)\n",
        "plt.plot(t,S)\n",
        "plt.plot(t,V)\n",
        "\n",
        "plt.xlabel('Time [hr]')\n",
        "plt.ylabel('Concentration [g/liter]')\n",
        "plt.legend(['Cell Conc.',\n",
        "            'Product Conc.',\n",
        "            'Substrate Conc.',\n",
        "            'Volume [liter]'])"
      ],
      "execution_count": 9,
      "outputs": [
        {
          "output_type": "execute_result",
          "data": {
            "text/plain": [
              "<matplotlib.legend.Legend at 0x7f569bc19470>"
            ]
          },
          "metadata": {
            "tags": []
          },
          "execution_count": 9
        },
        {
          "output_type": "display_data",
          "data": {
            "image/png": "[encoded data removed]",
            "text/plain": [
              "<Figure size 432x288 with 1 Axes>"
            ]
          },
          "metadata": {
            "tags": []
          }
        }
      ]
    }
  ]
}