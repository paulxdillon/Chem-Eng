{
  "nbformat": 4,
  "nbformat_minor": 0,
  "metadata": {
    "colab": {
      "name": "Bioreactor.ipynb",
      "version": "0.3.2",
      "provenance": [],
      "collapsed_sections": [],
      "include_colab_link": true
    },
    "kernelspec": {
      "name": "python3",
      "display_name": "Python 3"
    }
  },
  "cells": [
    {
      "cell_type": "markdown",
      "metadata": {
        "id": "view-in-github",
        "colab_type": "text"
      },
      "source": [
        "<a href=\"https://colab.research.google.com/github/paulxdillon/Chem-Eng/blob/master/Bioreactor.ipynb\" target=\"_parent\"><img src=\"https://colab.research.google.com/assets/colab-badge.svg\" alt=\"Open In Colab\"/></a>"
      ]
    },
    {
      "cell_type": "markdown",
      "metadata": {
        "id": "LfXrRpXKDFn1",
        "colab_type": "text"
      },
      "source": [
        ""
      ]
    },
    {
      "cell_type": "markdown",
      "metadata": {
        "id": "8yuS2ys9DI8y",
        "colab_type": "text"
      },
      "source": [
        "WORK-IN-PROGRESS\n",
        "\n",
        "A Model for penicilin using Bajpai & Reuss, J. Chem Tech. Biotechno, 1980"
      ]
    },
    {
      "cell_type": "code",
      "metadata": {
        "id": "H2EWkn9nDB9G",
        "colab_type": "code",
        "colab": {
          "base_uri": "https://localhost:8080/",
          "height": 300
        },
        "outputId": "b14d7fe1-264d-49ba-8e3f-623ff50a7bf4"
      },
      "source": [
        "%matplotlib inline\n",
        "import numpy as np\n",
        "import matplotlib.pyplot as plt\n",
        "from scipy.integrate import odeint\n",
        "\n",
        "mux = 0.092       # [1/hr]\n",
        "Kx = 0.15           # [-]\n",
        "muP = 0.0002        # [1/hr]\n",
        "KI = 0.1            # [g/L]\n",
        "KP = 0.0002         # [g/L]\n",
        "K = 0.04            # [1/hr] \n",
        "Yxs = 0.45          # g/g\n",
        "Yps = 0.9          # g/g\n",
        "mx = 0.014          # [gm glucose/gm dry wgt cells/hr]\n",
        "\n",
        "\n",
        "Sf = 600            # [g/litre]\n",
        "#V = 1000            # [L]\n",
        "\n",
        "S0 = 15            # [g/liter]\n",
        "P0 = 0.0\n",
        "X0 = .1\n",
        "V0 = 100\n",
        "#F = 0.33            # [gm glucose/L/hr] - defined as function F(t) below\n",
        "\n",
        "\n",
        "# inlet flowrate\n",
        "\n",
        "def F(t):\n",
        "    return 0.33\n",
        "\n",
        "# reaction rates\n",
        "\n",
        "#def mu(S):\n",
        "#    return mumax*S/(Ks + S)\n",
        "\n",
        "#def Rg(X,S):\n",
        "#    return mu(S)*X\n",
        "    \n",
        "#def Rp(X,S):\n",
        "#    return Ypx*Rg(X,S)\n",
        "\n",
        "# differential equations\n",
        "\n",
        "def xdot(x,t):\n",
        "    X,P,S,V = x\n",
        "    dX = mux*S/(Kx*X+S)*X - X/V*( F(t)*V/Sf )\n",
        "    dP = muP*S/(KP + S*(1+S/KI))*X - K*P - P/V*( F(t)*V/Sf )\n",
        "    #dS = -mux/Yxs*S/(Kx*X+S)*X -muP/Yps*S/(KP+S*(1+S/KI))*X - mx*X + F(t) - S/V*( F(t)*V/Sf )\n",
        "    dS = -mux/Yxs*S/(Kx*X+S)*X -muP/Yps*S/(KP+S+S**2/KI)*X - mx*X + F(t)/V - S/V*( F(t)*V/Sf )\n",
        "    dV = F(t)*V/Sf\n",
        "    return [dX,dP,dS,dV]\n",
        "\n",
        "IC = [X0, P0, S0, V0]\n",
        "\n",
        "t = np.linspace(0,100)\n",
        "sol = odeint(xdot,IC,t)\n",
        "X,P,S,V = sol.transpose()\n",
        "\n",
        "x = range(10)\n",
        "y = range(10)\n",
        "\n",
        "\n",
        "plt.subplot(2, 2, 1)\n",
        "plt.plot(t,X)\n",
        "plt.xlabel('Time [hr]')\n",
        "plt.ylabel('Biomass [g/liter]')\n",
        "\n",
        "plt.subplot(2, 2, 2)\n",
        "plt.plot(t,P*1000)\n",
        "plt.xlabel('Time [hr]')\n",
        "plt.ylabel('Product [mg/liter]')\n",
        "\n",
        "plt.subplot(2, 2, 3)\n",
        "plt.plot(t,S)\n",
        "plt.xlabel('Time [hr]')\n",
        "plt.ylabel('Substrate [g/liter]')\n",
        "\n",
        "plt.subplot(2, 2, 4)\n",
        "plt.plot(t,V)\n",
        "\n",
        "plt.xlabel('Time [hr]')\n",
        "plt.ylabel('Volume [liter]')"
      ],
      "execution_count": 1,
      "outputs": [
        {
          "output_type": "execute_result",
          "data": {
            "text/plain": [
              "Text(0, 0.5, 'Volume [liter]')"
            ]
          },
          "metadata": {
            "tags": []
          },
          "execution_count": 1
        },
        {
          "output_type": "display_data",
          "data": {
            "image/png": "[encoded data removed]",
            "text/plain": [
              "<Figure size 432x288 with 4 Axes>"
            ]
          },
          "metadata": {
            "tags": []
          }
        }
      ]
    }
  ]
}