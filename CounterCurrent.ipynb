{
  "nbformat": 4,
  "nbformat_minor": 0,
  "metadata": {
    "colab": {
      "name": "Untitled0.ipynb",
      "version": "0.3.2",
      "provenance": [],
      "include_colab_link": true
    },
    "kernelspec": {
      "name": "python3",
      "display_name": "Python 3"
    }
  },
  "cells": [
    {
      "cell_type": "markdown",
      "metadata": {
        "id": "view-in-github",
        "colab_type": "text"
      },
      "source": [
        "<a href=\"https://colab.research.google.com/github/paulxdillon/Chem-Eng/blob/master/CounterCurrent.ipynb\" target=\"_parent\"><img src=\"https://colab.research.google.com/assets/colab-badge.svg\" alt=\"Open In Colab\"/></a>"
      ]
    },
    {
      "metadata": {
        "id": "cZaILzTVyMMw",
        "colab_type": "text"
      },
      "cell_type": "markdown",
      "source": [
        "Counter current flow using numpy ..."
      ]
    },
    {
      "metadata": {
        "id": "I_KABs__yRPI",
        "colab_type": "code",
        "colab": {}
      },
      "cell_type": "code",
      "source": [
        "import numpy as np\n",
        "from scipy.integrate import solve_bvp\n",
        "import matplotlib.pyplot as plt"
      ],
      "execution_count": 0,
      "outputs": []
    },
    {
      "metadata": {
        "id": "8J4ge-BYyUFt",
        "colab_type": "code",
        "colab": {}
      },
      "cell_type": "code",
      "source": [
        "mh  = 2             # kg/s\n",
        "Cph = 4200          # J/kg.K\n",
        "mc  = 1\n",
        "Cpc = 4200\n",
        "hHot    = 2000      #W/m2.K\n",
        "hCold   = 800\n",
        "AHt     = 5.0       # m2\n",
        "ThIN    = 130       # C\n",
        "TcIN    = 70\n",
        "numPts  = 20        # number of collocation points"
      ],
      "execution_count": 0,
      "outputs": []
    },
    {
      "metadata": {
        "id": "mKMmndwnxdO2",
        "colab_type": "code",
        "colab": {}
      },
      "cell_type": "code",
      "source": [
        "def fun_HX(x, T):\n",
        "    return np.vstack((\n",
        "        hHot/(mc*Cpc)*( T[1] - T[0] ),  # evaluate the difference between the temperature of the hot\n",
        "                                        # stream on the left and the required boundary condition\n",
        "        hCold/(mh*Cph)*( T[1] -T[0] )   # evaluate the difference between the temperature of the cold\n",
        "                                        # stream on the right and the required boundary condition\n",
        "    ))"
      ],
      "execution_count": 0,
      "outputs": []
    },
    {
      "metadata": {
        "id": "DYZL8nbmxhJP",
        "colab_type": "code",
        "colab": {}
      },
      "cell_type": "code",
      "source": [
        "def bc_HX(Ta, Tb):\n",
        "    return np.array( [Ta[0] - ThIN , Tb[1]-TcIN] )"
      ],
      "execution_count": 0,
      "outputs": []
    },
    {
      "metadata": {
        "id": "pSsjF6PkxkcP",
        "colab_type": "code",
        "colab": {
          "base_uri": "https://localhost:8080/",
          "height": 119
        },
        "outputId": "a3dd9610-99b1-49a2-9214-f7cd2e769faa"
      },
      "cell_type": "code",
      "source": [
        "A_HX = np.linspace(0, AHt, numPts)\n",
        "T_HX = np.full((2, A_HX.shape[0]), (ThIN + TcIN)/2 )    # initial guess based on average of hot-inlet\n",
        "                                                        # and cold-inlet\n",
        "\n",
        "res_HX = solve_bvp(fun_HX, bc_HX, A_HX, T_HX, verbose=2) # solve using \"solve_bvp\"\n",
        "\n",
        "A_HX_plot = np.linspace(0, AHt, numPts)\n",
        "T_HX_plot = res_HX.sol(A_HX_plot)                       # generate temperatures from solution\n",
        "                                                        # at desired values of h.t. area\n",
        "\n",
        "ThOUT = T_HX_plot[0,-1]\n",
        "TcOUT = T_HX_plot[1,0]\n",
        "\n",
        "print(\"Cold exit temperature: {:8.2f}C\".format( TcOUT ))\n",
        "print(\"Hot exit temperature:  {:8.2f}C\".format( ThOUT  ))\n",
        "\n",
        "LMTD = ((ThIN-TcOUT)-(ThOUT-TcIN))/np.log( np.absolute( (ThIN-TcOUT)/(ThOUT-TcIN) ) )\n",
        "print(\"LMTD = {:8.2f}C\".format( LMTD ) )"
      ],
      "execution_count": 10,
      "outputs": [
        {
          "output_type": "stream",
          "text": [
            "   Iteration    Max residual    Total nodes    Nodes added  \n",
            "       1          7.30e-06          20              0       \n",
            "Solved in 1 iterations, number of nodes 20, maximum relative residual 7.30e-06.\n",
            "Cold exit temperature:    80.53C\n",
            "Hot exit temperature:     77.36C\n",
            "LMTD =    22.11C\n"
          ],
          "name": "stdout"
        }
      ]
    },
    {
      "metadata": {
        "id": "AxFT29m8x663",
        "colab_type": "code",
        "colab": {
          "base_uri": "https://localhost:8080/",
          "height": 295
        },
        "outputId": "55925645-a6ab-4042-8b14-2e6cdc2fa485"
      },
      "cell_type": "code",
      "source": [
        "plt.plot(A_HX_plot, T_HX_plot[0], label='$T_h$', marker=\"o\")\n",
        "plt.plot(A_HX_plot, T_HX_plot[1], label='$T_c$', marker=\"s\")\n",
        "plt.title(\"Counter-current Heat-Exchanger\")\n",
        "plt.xlabel(\"Heat-transfer area (m2)\")\n",
        "plt.ylabel(\"Temperature (C)\")\n",
        "plt.legend(loc='upper right')\n",
        "plt.show()"
      ],
      "execution_count": 11,
      "outputs": [
        {
          "output_type": "display_data",
          "data": {
            "image/png": "[encoded data removed]",
            "text/plain": [
              "<Figure size 432x288 with 1 Axes>"
            ]
          },
          "metadata": {
            "tags": []
          }
        }
      ]
    }
  ]
}