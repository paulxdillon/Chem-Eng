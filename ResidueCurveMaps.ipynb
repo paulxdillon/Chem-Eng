{
  "nbformat": 4,
  "nbformat_minor": 0,
  "metadata": {
    "colab": {
      "name": "ResidueCurveMaps.ipynb",
      "provenance": [],
      "collapsed_sections": [],
      "include_colab_link": true
    },
    "kernelspec": {
      "name": "python3",
      "display_name": "Python 3"
    }
  },
  "cells": [
    {
      "cell_type": "markdown",
      "metadata": {
        "id": "view-in-github",
        "colab_type": "text"
      },
      "source": [
        "<a href=\"https://colab.research.google.com/github/paulxdillon/Chem-Eng/blob/master/ResidueCurveMaps.ipynb\" target=\"_parent\"><img src=\"https://colab.research.google.com/assets/colab-badge.svg\" alt=\"Open In Colab\"/></a>"
      ]
    },
    {
      "cell_type": "markdown",
      "metadata": {
        "id": "IHC4LyVcCfDB",
        "colab_type": "text"
      },
      "source": [
        "Calculation of azeotropes."
      ]
    },
    {
      "cell_type": "code",
      "metadata": {
        "id": "j2bMZToQCjop",
        "colab_type": "code",
        "colab": {
          "base_uri": "https://localhost:8080/",
          "height": 119
        },
        "outputId": "b04f78ca-f212-4b2e-af08-295dd600901b"
      },
      "source": [
        "!pip install pyomo\n",
        "import numpy as np\n",
        "from scipy.optimize import curve_fit\n",
        "import pylab\n",
        "from scipy.optimize import fsolve\n",
        "from scipy.integrate import odeint\n",
        "import scipy as sp\n",
        "from scipy.integrate import ode\n",
        "from pyomo.environ import *\n",
        "import pandas as pd"
      ],
      "execution_count": 11,
      "outputs": [
        {
          "output_type": "stream",
          "text": [
            "Requirement already satisfied: pyomo in /usr/local/lib/python3.6/dist-packages (5.6.7)\n",
            "Requirement already satisfied: appdirs in /usr/local/lib/python3.6/dist-packages (from pyomo) (1.4.3)\n",
            "Requirement already satisfied: ply in /usr/local/lib/python3.6/dist-packages (from pyomo) (3.11)\n",
            "Requirement already satisfied: six>=1.4 in /usr/local/lib/python3.6/dist-packages (from pyomo) (1.12.0)\n",
            "Requirement already satisfied: PyUtilib>=5.7.2 in /usr/local/lib/python3.6/dist-packages (from pyomo) (5.7.2)\n",
            "Requirement already satisfied: nose in /usr/local/lib/python3.6/dist-packages (from PyUtilib>=5.7.2->pyomo) (1.3.7)\n"
          ],
          "name": "stdout"
        }
      ]
    },
    {
      "cell_type": "code",
      "metadata": {
        "id": "CAZNzBHUDAm7",
        "colab_type": "code",
        "colab": {}
      },
      "source": [
        "Components = ['Water','2-MCH','Acetone']\n",
        "Pairs = ['Water/2-MCH', 'Water/Acetone', '2-MCH/Acetone']"
      ],
      "execution_count": 0,
      "outputs": []
    },
    {
      "cell_type": "markdown",
      "metadata": {
        "id": "E6fJTxI9Cc7j",
        "colab_type": "text"
      },
      "source": [
        ""
      ]
    },
    {
      "cell_type": "code",
      "metadata": {
        "id": "uqJsOPRGDFjS",
        "colab_type": "code",
        "colab": {}
      },
      "source": [
        "NRTLparams = {'Pairs':['Water/2-MCH','Water/Acetone','2-MCH/Acetone','IPA/Ethanol','IPA/Methanol','Ethanol/Methanol','Water/Ethanol', 'Water/Methanol', 'IPA/Water',],\n",
        "              'aij': [5.06045,      0.0544,         -1.01139,            0,              0,              0,              0,              0,                 -1.3115],\n",
        "              'aji': [-2.4211,      6.3981,         1.28690,             0,              0,              0,              0,              0,                 6.8284],\n",
        "              'bij': [-34.9329,     419.972,       115.763,            -266.3770,      -407.2343,      6.4080,         670.444,        425.323,             426.398],\n",
        "              'bji': [1213.92,      -1808.99,        -112.44,            347.2905,       603.0893,       -13.0821,        -55.1698,       -127.757,          -1483.5],\n",
        "              'cij': [0.2966,       0.3,            0.2992,             0.3125,         0.3012,         0.3356,         0.3031,         0.3012,               0.3]}"
      ],
      "execution_count": 0,
      "outputs": []
    },
    {
      "cell_type": "code",
      "metadata": {
        "id": "bWTO4M5fDJDJ",
        "colab_type": "code",
        "colab": {}
      },
      "source": [
        "pair12 = Components[0]+'/'+ Components[1] #'Water/2-MCH'\n",
        "pair13 = Components[0]+'/'+ Components[2] #'Water/Acetone'\n",
        "pair23 = Components[1]+'/'+ Components[2] #'2-MCH/Acetone'"
      ],
      "execution_count": 0,
      "outputs": []
    },
    {
      "cell_type": "code",
      "metadata": {
        "id": "Q-l_4MTYDKhK",
        "colab_type": "code",
        "colab": {
          "base_uri": "https://localhost:8080/",
          "height": 34
        },
        "outputId": "3e31c758-04b0-4b71-ee12-54c356334502"
      },
      "source": [
        "print(pair12, pair13, pair23)"
      ],
      "execution_count": 15,
      "outputs": [
        {
          "output_type": "stream",
          "text": [
            "Water/2-MCH Water/Acetone 2-MCH/Acetone\n"
          ],
          "name": "stdout"
        }
      ]
    },
    {
      "cell_type": "code",
      "metadata": {
        "id": "7BZsu3eSDg0S",
        "colab_type": "code",
        "colab": {}
      },
      "source": [
        "ncomp = 3\n",
        "tau = np.ndarray((ncomp, ncomp),float)\n",
        "alpha = np.ndarray((ncomp, ncomp),float)\n",
        "\n",
        "df = pd.DataFrame(NRTLparams)\n",
        "df.set_index(\"Pairs\", inplace=True)\n",
        "\n",
        "df.loc[pair12]\n",
        "df.loc[pair12].loc['aij']\n",
        "\n",
        "P = 1.01325 # barA\n",
        "T = 60      # deg C (preliminary value)\n",
        "a12 = df.loc[pair12].loc['aij']\n",
        "a21 = df.loc[pair12].loc['aji']\n",
        "\n",
        "a13 = df.loc[pair13].loc['aij']\n",
        "a31 = df.loc[pair13].loc['aji']\n",
        "\n",
        "a23 = df.loc[pair23].loc['aij']\n",
        "a32 = df.loc[pair23].loc['aji']\n",
        "\n",
        "b12 = df.loc[pair12].loc['bij']\n",
        "b21 = df.loc[pair12].loc['bji']\n",
        "\n",
        "b13 = df.loc[pair13].loc['bij']\n",
        "b31 = df.loc[pair13].loc['bji']\n",
        "\n",
        "b23 = df.loc[pair23].loc['bij']\n",
        "b32 = df.loc[pair23].loc['bji']\n",
        "\n",
        "c12 = df.loc[pair12].loc['cij']\n",
        "c21 = df.loc[pair12].loc['cij']\n",
        "c13 = df.loc[pair13].loc['cij']\n",
        "c31 = df.loc[pair13].loc['cij']\n",
        "c23 = df.loc[pair23].loc['cij']\n",
        "c32 = df.loc[pair23].loc['cij']"
      ],
      "execution_count": 0,
      "outputs": []
    },
    {
      "cell_type": "code",
      "metadata": {
        "id": "qS4q1jWaDtmS",
        "colab_type": "code",
        "colab": {}
      },
      "source": [
        "tau[0,0] = 0\n",
        "tau[0,1] = a12 +  b12/(T+273.15)\n",
        "tau[0,2] = a13 +  b13/(T+273.15)\n",
        "\n",
        "tau[1,0] = a21 +  b21/(T+273.15)\n",
        "tau[1,1] = 0\n",
        "tau[1,2] = a23 +  b23/(T+273.15)\n",
        "\n",
        "tau[2,0] = a31 +  b31/(T+273.15)\n",
        "tau[2,1] = a32 +  b32/(T+273.15)\n",
        "tau[2,2] = 0\n",
        "\n",
        "alpha[0,0] = 0\n",
        "alpha[0,1] = c12\n",
        "alpha[0,2] = c13\n",
        "\n",
        "alpha[1,0] = c12\n",
        "alpha[1,1] = 0\n",
        "alpha[1,2] = c23\n",
        "\n",
        "alpha[2,0] = c13\n",
        "alpha[2,1] = c23\n",
        "alpha[2,2] = 0"
      ],
      "execution_count": 0,
      "outputs": []
    },
    {
      "cell_type": "code",
      "metadata": {
        "id": "9pY7Y4ZVDxYS",
        "colab_type": "code",
        "colab": {}
      },
      "source": [
        "def nrtl(alpha, tau, t, x):\n",
        " \n",
        "    G = np.exp(-alpha*tau)\n",
        "    ncomp = x.shape[0]\n",
        "    gamma = np.zeros_like(x)\n",
        "    summ = 0\n",
        "    \n",
        "    for i in range(ncomp):\n",
        "        summ = 0\n",
        "        for j in range(ncomp):\n",
        "            summ += x[j]*G[i,j]/np.sum(G[:,j]*x)*(tau[i,j] - (np.sum(x*tau[:,j]*G[:,j])/np.sum(G[:,j]*x)))\n",
        "        gamma[i] = np.sum(tau[:,i]*G[:,i]*x)/np.sum(G[:,i]*x) + summ    \n",
        "        \n",
        "    return np.exp(gamma)"
      ],
      "execution_count": 0,
      "outputs": []
    },
    {
      "cell_type": "code",
      "metadata": {
        "id": "KEHV48GfD3yb",
        "colab_type": "code",
        "colab": {}
      },
      "source": [
        "def gMfn(alpha, tau, t, x):\n",
        "    G = np.exp(-alpha*tau)\n",
        "    ncomp = x.shape[0]\n",
        "    summ = 0\n",
        "    sumi = 0\n",
        "    gE_RT = 0\n",
        "    gMix_RT = 0\n",
        "\n",
        "    for i in range(ncomp):\n",
        "       summ = 0\n",
        "       sumj = 0\n",
        "       sumk = 0\n",
        "       for j in range(ncomp):\n",
        "           sumj = sumj + tau[j,i]*G[j,i]*x[j];\n",
        "\n",
        "       for k in range(ncomp):\n",
        "           sumk = sumk + G[k,i]*x[k]\n",
        "\n",
        "       sumi = sumi + x[i]*sumj/sumk\n",
        "\n",
        "    return sumi*8.314*(t+273.15)"
      ],
      "execution_count": 0,
      "outputs": []
    },
    {
      "cell_type": "code",
      "metadata": {
        "id": "TNK2rssmD6wS",
        "colab_type": "code",
        "colab": {
          "base_uri": "https://localhost:8080/",
          "height": 204
        },
        "outputId": "e86fb399-39ac-4713-f75c-c5d237f275c8"
      },
      "source": [
        "print(df)"
      ],
      "execution_count": 20,
      "outputs": [
        {
          "output_type": "stream",
          "text": [
            "                      aij     aji       bij        bji     cij\n",
            "Pairs                                                         \n",
            "Water/2-MCH       5.06045 -2.4211  -34.9329  1213.9200  0.2966\n",
            "Water/Acetone     0.05440  6.3981  419.9720 -1808.9900  0.3000\n",
            "2-MCH/Acetone    -1.01139  1.2869  115.7630  -112.4400  0.2992\n",
            "IPA/Ethanol       0.00000  0.0000 -266.3770   347.2905  0.3125\n",
            "IPA/Methanol      0.00000  0.0000 -407.2343   603.0893  0.3012\n",
            "Ethanol/Methanol  0.00000  0.0000    6.4080   -13.0821  0.3356\n",
            "Water/Ethanol     0.00000  0.0000  670.4440   -55.1698  0.3031\n",
            "Water/Methanol    0.00000  0.0000  425.3230  -127.7570  0.3012\n",
            "IPA/Water        -1.31150  6.8284  426.3980 -1483.5000  0.3000\n"
          ],
          "name": "stdout"
        }
      ]
    }
  ]
}