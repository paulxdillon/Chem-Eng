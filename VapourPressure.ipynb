{
  "nbformat": 4,
  "nbformat_minor": 0,
  "metadata": {
    "colab": {
      "name": "VapourPressure.ipynb",
      "version": "0.3.2",
      "provenance": [],
      "collapsed_sections": [],
      "include_colab_link": true
    },
    "kernelspec": {
      "name": "python3",
      "display_name": "Python 3"
    }
  },
  "cells": [
    {
      "cell_type": "markdown",
      "metadata": {
        "id": "view-in-github",
        "colab_type": "text"
      },
      "source": [
        "<a href=\"https://colab.research.google.com/github/paulxdillon/Chem-Eng/blob/master/VapourPressure.ipynb\" target=\"_parent\"><img src=\"https://colab.research.google.com/assets/colab-badge.svg\" alt=\"Open In Colab\"/></a>"
      ]
    },
    {
      "metadata": {
        "id": "e8-rdXr-rMg7",
        "colab_type": "text"
      },
      "cell_type": "markdown",
      "source": [
        "From \"Chemical and Biomedical Engineering\""
      ]
    },
    {
      "metadata": {
        "id": "jEweaP-PLfDk",
        "colab_type": "code",
        "outputId": "a48cc8a5-ca9a-4f9d-ba41-5a1a95bf109a",
        "colab": {
          "base_uri": "https://localhost:8080/",
          "height": 338
        }
      },
      "cell_type": "code",
      "source": [
        "import numpy\n",
        "from scipy.optimize import curve_fit\n",
        "import pylab\n",
        "\n",
        "n=20\n",
        "A = 8.07\n",
        "B = 1730\n",
        "C = 233\n",
        "\n",
        "x = numpy.linspace(20,90,num=n)\n",
        "error = numpy.random.rand(n)\n",
        "y = numpy.zeros(n)\n",
        "for i in range(n):\n",
        "  y[i] = A-B/(x[i]+C)\n",
        "  y[i] = (10**y[i] + 20*error[i]-0.05)\n",
        "  \n",
        "def antoine(temp,a,b,c):\n",
        "  n = temp.size\n",
        "  p = numpy.zeros(n)\n",
        "  for i in range(n):\n",
        "    p[i] = 10**(a-b/(temp[i]+c))\n",
        "  return p\n",
        "\n",
        "params = [10,2000,200]\n",
        "popt,pcov = curve_fit(antoine,x,y,p0=params)\n",
        "\n",
        "yfit = antoine(x,popt[0],popt[1],popt[2])\n",
        "pylab.plot(x,y,'o',x,yfit)\n",
        "pylab.xlabel('Temperature ($^oC$)')\n",
        "pylab.ylabel('$p^*$ (mmHg')\n",
        "pylab.show()\n",
        "print('A = ',popt[0])\n",
        "print('B = ',popt[1])\n",
        "print('C = ',popt[2])"
      ],
      "execution_count": 4,
      "outputs": [
        {
          "output_type": "display_data",
          "data": {
            "image/png": "[encoded data removed]",
            "text/plain": [
              "<Figure size 432x288 with 1 Axes>"
            ]
          },
          "metadata": {
            "tags": []
          }
        },
        {
          "output_type": "stream",
          "text": [
            "A =  11.633602476056595\n",
            "B =  4784.31295601886\n",
            "C =  446.97901520612197\n"
          ],
          "name": "stdout"
        }
      ]
    },
    {
      "metadata": {
        "id": "620BuipIrHul",
        "colab_type": "text"
      },
      "cell_type": "markdown",
      "source": [
        ""
      ]
    }
  ]
}