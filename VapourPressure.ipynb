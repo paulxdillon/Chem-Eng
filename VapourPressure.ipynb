{
  "nbformat": 4,
  "nbformat_minor": 0,
  "metadata": {
    "colab": {
      "name": "VapourPressure.ipynb",
      "version": "0.3.2",
      "provenance": [],
      "collapsed_sections": [],
      "include_colab_link": true
    },
    "kernelspec": {
      "name": "python3",
      "display_name": "Python 3"
    }
  },
  "cells": [
    {
      "cell_type": "markdown",
      "metadata": {
        "id": "view-in-github",
        "colab_type": "text"
      },
      "source": [
        "<a href=\"https://colab.research.google.com/github/paulxdillon/Chem-Eng/blob/master/VapourPressure.ipynb\" target=\"_parent\"><img src=\"https://colab.research.google.com/assets/colab-badge.svg\" alt=\"Open In Colab\"/></a>"
      ]
    },
    {
      "metadata": {
        "id": "e8-rdXr-rMg7",
        "colab_type": "text"
      },
      "cell_type": "markdown",
      "source": [
        "From \"Chemical and Biomedical Engineering\""
      ]
    },
    {
      "metadata": {
        "id": "jEweaP-PLfDk",
        "colab_type": "code",
        "outputId": "8ba4017b-8541-46ea-a886-199f6d61e9ce",
        "colab": {
          "base_uri": "https://localhost:8080/",
          "height": 304
        }
      },
      "cell_type": "code",
      "source": [
        "import numpy\n",
        "from scipy.optimize import curve_fit\n",
        "import pylab\n",
        "\n",
        "n=20\n",
        "A = 8.07\n",
        "B = 1730\n",
        "C = 233\n",
        "\n",
        "x = numpy.linspace(20,90,num=n)\n",
        "error = numpy.random.rand(n)\n",
        "y = numpy.zeros(n)\n",
        "for i in range(n):\n",
        "  y[i] = A-B/(x[i]+C)\n",
        "  y[i] = (10**y[i] + 50*error[i]-0.1)\n",
        "  \n",
        "def antoine(temp,a,b,c):\n",
        "  n = temp.size\n",
        "  p = numpy.zeros(n)\n",
        "  for i in range(n):\n",
        "    p[i] = 10**(a-b/(temp[i]+c))\n",
        "  return p\n",
        "\n",
        "params = [10,2000,200]\n",
        "popt,pcov = curve_fit(antoine,x,y,p0=params)\n",
        "\n",
        "yfit = antoine(x,popt[0],popt[1],popt[2])\n",
        "pylab.plot(x,y,'o',x,yfit)\n",
        "pylab.xlabel('Temperature ($^oC$)')\n",
        "pylab.ylabel('$p^*$ (mmHg')\n",
        "pylab.show()\n",
        "[popt[0], popt[1], popt[2]]\n"
      ],
      "execution_count": 1,
      "outputs": [
        {
          "output_type": "display_data",
          "data": {
            "image/png": "[encoded data removed]",
            "text/plain": [
              "<Figure size 432x288 with 1 Axes>"
            ]
          },
          "metadata": {
            "tags": []
          }
        },
        {
          "output_type": "execute_result",
          "data": {
            "text/plain": [
              "[13.972124172730002, 8116.479239750175, 632.2496244244118]"
            ]
          },
          "metadata": {
            "tags": []
          },
          "execution_count": 1
        }
      ]
    },
    {
      "metadata": {
        "id": "620BuipIrHul",
        "colab_type": "text"
      },
      "cell_type": "markdown",
      "source": [
        ""
      ]
    }
  ]
}