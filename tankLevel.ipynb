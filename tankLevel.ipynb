{
  "nbformat": 4,
  "nbformat_minor": 0,
  "metadata": {
    "colab": {
      "name": "tankLevel.ipynb",
      "version": "0.3.2",
      "provenance": [],
      "include_colab_link": true
    },
    "kernelspec": {
      "name": "python3",
      "display_name": "Python 3"
    }
  },
  "cells": [
    {
      "cell_type": "markdown",
      "metadata": {
        "id": "view-in-github",
        "colab_type": "text"
      },
      "source": [
        "<a href=\"https://colab.research.google.com/github/paulxdillon/Chem-Eng/blob/master/tankLevel.ipynb\" target=\"_parent\"><img src=\"https://colab.research.google.com/assets/colab-badge.svg\" alt=\"Open In Colab\"/></a>"
      ]
    },
    {
      "cell_type": "markdown",
      "metadata": {
        "id": "aiXYbgBsCq5h",
        "colab_type": "text"
      },
      "source": [
        "Test of tank level control"
      ]
    },
    {
      "cell_type": "code",
      "metadata": {
        "id": "VJS6Irm0Cw7A",
        "colab_type": "code",
        "colab": {}
      },
      "source": [
        "%matplotlib inline\n",
        "import matplotlib.pyplot as plt\n",
        "import numpy as np\n",
        "import pandas as pd\n",
        "from IPython.display import display, HTML\n",
        "\n",
        "import shutil\n",
        "import sys\n",
        "import os.path\n",
        "\n",
        "if not shutil.which(\"pyomo\"):\n",
        "    !pip install -q pyomo\n",
        "    assert(shutil.which(\"pyomo\"))\n",
        "\n",
        "if not (shutil.which(\"cbc\") or os.path.isfile(\"cbc\")):\n",
        "    if \"google.colab\" in sys.modules:\n",
        "        !apt-get install -y -qq coinor-cbc\n",
        "    else:\n",
        "        try:\n",
        "            !conda install -c conda-forge coincbc \n",
        "        except:\n",
        "            pass\n",
        "\n",
        "assert(shutil.which(\"cbc\") or os.path.isfile(\"cbc\"))\n",
        "import pyomo.environ as pyo\n",
        "import pyomo.gdp as gdp"
      ],
      "execution_count": 0,
      "outputs": []
    },
    {
      "cell_type": "code",
      "metadata": {
        "id": "B_EH1kGODKIN",
        "colab_type": "code",
        "colab": {
          "base_uri": "https://localhost:8080/",
          "height": 312
        },
        "outputId": "6bce157d-08fe-4a4d-c4ae-4d3255325f7a"
      },
      "source": [
        "# demand\n",
        "T = 20\n",
        "T = np.array([t for t in range(0, T)])\n",
        "d = np.array([50 + 10*np.random.uniform() for t in T])\n",
        "\n",
        "fig, ax = plt.subplots(1,1)\n",
        "ax.bar(T+1, d)\n",
        "ax.set_xlabel('Time Period')\n",
        "ax.set_title('Demand')"
      ],
      "execution_count": 23,
      "outputs": [
        {
          "output_type": "execute_result",
          "data": {
            "text/plain": [
              "Text(0.5, 1.0, 'Demand')"
            ]
          },
          "metadata": {
            "tags": []
          },
          "execution_count": 23
        },
        {
          "output_type": "display_data",
          "data": {
            "image/png": "[encoded data removed]",
            "text/plain": [
              "<Figure size 432x288 with 1 Axes>"
            ]
          },
          "metadata": {
            "tags": []
          }
        }
      ]
    },
    {
      "cell_type": "code",
      "metadata": {
        "id": "os3vA76QDXDq",
        "colab_type": "code",
        "colab": {
          "base_uri": "https://localhost:8080/",
          "height": 283
        },
        "outputId": "3dc3acea-31e8-4b7a-e55d-7d3552115a20"
      },
      "source": [
        "# generating units\n",
        "N = 2\n",
        "pmax = 2*max(d)/N\n",
        "pmin = 0.6*pmax\n",
        "\n",
        "N = np.array([n for n in range(0, N)])\n",
        "a = np.array([0.5 + 0.2*np.random.randn() for n in N])\n",
        "b = np.array([10*np.random.uniform() for n in N])\n",
        "\n",
        "p = np.linspace(pmin, pmax)\n",
        "\n",
        "fig, ax = plt.subplots(1,1)\n",
        "for n in N:\n",
        "    ax.plot(p, a[n]*p + b[n])\n",
        "ax.set_xlim(0, pmax)\n",
        "ax.set_ylim(0, max(a*pmax + b))\n",
        "ax.set_xlabel('Unit Production')\n",
        "ax.set_ylabel('Unit Operating Cost')\n",
        "ax.grid()\n"
      ],
      "execution_count": 38,
      "outputs": [
        {
          "output_type": "display_data",
          "data": {
            "image/png": "[encoded data removed]",
            "text/plain": [
              "<Figure size 432x288 with 1 Axes>"
            ]
          },
          "metadata": {
            "tags": []
          }
        }
      ]
    },
    {
      "cell_type": "code",
      "metadata": {
        "id": "GShEFrI_Dc_Y",
        "colab_type": "code",
        "colab": {
          "base_uri": "https://localhost:8080/",
          "height": 886
        },
        "outputId": "8003eba9-95c7-4687-f810-a99907b8dc28"
      },
      "source": [
        "def unit_commitment():\n",
        "    m = pyo.ConcreteModel()\n",
        "\n",
        "    m.N = pyo.Set(initialize=N)\n",
        "    m.T = pyo.Set(initialize=T)\n",
        "\n",
        "    m.x = pyo.Var(m.N, m.T, bounds = (0, pmax))\n",
        "    m.u = pyo.Var(m.N, m.T, domain=pyo.Binary)\n",
        "    \n",
        "    # objective\n",
        "    m.cost = pyo.Objective(expr = sum(m.x[n,t]*a[n] + m.u[n,t]*b[n] for t in m.T for n in m.N), sense=pyo.minimize)\n",
        "    \n",
        "    # demand\n",
        "    m.demand = pyo.Constraint(m.T, rule=lambda m, t: sum(m.x[n,t] for n in N) == d[t])\n",
        "    \n",
        "    # semi-continuous\n",
        "    m.lb = pyo.Constraint(m.N, m.T, rule=lambda m, n, t: pmin*m.u[n,t] <= m.x[n,t])\n",
        "    m.ub = pyo.Constraint(m.N, m.T, rule=lambda m, n, t: pmax*m.u[n,t] >= m.x[n,t])\n",
        "    return m\n",
        "   \n",
        "m = unit_commitment()\n",
        "pyo.SolverFactory('cbc').solve(m).write()\n",
        "\n",
        "fig, ax = plt.subplots(max(N)+1, 1, figsize=(8, 1.5*max(N)+1))\n",
        "for n in N:\n",
        "    ax[n].bar(T+1, [m.x[n,t]() for t in T])\n",
        "    ax[n].set_xlim(0, max(T)+2)\n",
        "    ax[n].set_ylim(0, 1.1*pmax)\n",
        "    ax[n].plot(ax[n].get_xlim(), np.array([pmax, pmax]), 'r--')\n",
        "    ax[n].plot(ax[n].get_xlim(), np.array([pmin, pmin]), 'r--')\n",
        "    ax[n].set_title('Unit ' + str(n+1))\n",
        "fig.tight_layout()"
      ],
      "execution_count": 39,
      "outputs": [
        {
          "output_type": "stream",
          "text": [
            "# ==========================================================\n",
            "# = Solver Results                                         =\n",
            "# ==========================================================\n",
            "# ----------------------------------------------------------\n",
            "#   Problem Information\n",
            "# ----------------------------------------------------------\n",
            "Problem: \n",
            "- Name: unknown\n",
            "  Lower bound: 332.43091918\n",
            "  Upper bound: 332.43091918\n",
            "  Number of objectives: 1\n",
            "  Number of constraints: 80\n",
            "  Number of variables: 60\n",
            "  Number of binary variables: 40\n",
            "  Number of integer variables: 40\n",
            "  Number of nonzeros: 60\n",
            "  Sense: minimize\n",
            "# ----------------------------------------------------------\n",
            "#   Solver Information\n",
            "# ----------------------------------------------------------\n",
            "Solver: \n",
            "- Status: ok\n",
            "  User time: -1.0\n",
            "  System time: 0.01\n",
            "  Wallclock time: 0.01\n",
            "  Termination condition: optimal\n",
            "  Termination message: Model was solved to optimality (subject to tolerances), and an optimal solution is available.\n",
            "  Statistics: \n",
            "    Branch and bound: \n",
            "      Number of bounded subproblems: 0\n",
            "      Number of created subproblems: 0\n",
            "    Black box: \n",
            "      Number of iterations: 13\n",
            "  Error rc: 0\n",
            "  Time: 0.03329205513000488\n",
            "# ----------------------------------------------------------\n",
            "#   Solution Information\n",
            "# ----------------------------------------------------------\n",
            "Solution: \n",
            "- number of solutions: 0\n",
            "  number of solutions displayed: 0\n"
          ],
          "name": "stdout"
        },
        {
          "output_type": "display_data",
          "data": {
            "image/png": "[encoded data removed]",
            "text/plain": [
              "<Figure size 576x180 with 2 Axes>"
            ]
          },
          "metadata": {
            "tags": []
          }
        }
      ]
    }
  ]
}